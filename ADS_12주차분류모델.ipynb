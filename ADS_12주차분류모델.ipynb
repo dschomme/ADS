{
  "nbformat": 4,
  "nbformat_minor": 0,
  "metadata": {
    "colab": {
      "name": "ADS_12주차분류모델",
      "provenance": [],
      "collapsed_sections": [],
      "authorship_tag": "ABX9TyNL7CtXD7m9xf2CbtCp5l5M",
      "include_colab_link": true
    },
    "kernelspec": {
      "name": "python3",
      "display_name": "Python 3"
    },
    "language_info": {
      "name": "python"
    }
  },
  "cells": [
    {
      "cell_type": "markdown",
      "metadata": {
        "id": "view-in-github",
        "colab_type": "text"
      },
      "source": [
        "<a href=\"https://colab.research.google.com/github/dschomme/ADS/blob/main/ADS_12%EC%A3%BC%EC%B0%A8%EB%B6%84%EB%A5%98%EB%AA%A8%EB%8D%B8.ipynb\" target=\"_parent\"><img src=\"https://colab.research.google.com/assets/colab-badge.svg\" alt=\"Open In Colab\"/></a>"
      ]
    },
    {
      "cell_type": "markdown",
      "metadata": {
        "id": "UYckbmLv_M_L"
      },
      "source": [
        "## 심리성향 예측 데이터 분류모델"
      ]
    },
    {
      "cell_type": "markdown",
      "metadata": {
        "id": "dooHEI5r_UUB"
      },
      "source": [
        "# 데이터 변수 설명"
      ]
    },
    {
      "cell_type": "markdown",
      "metadata": {
        "id": "0u7ZQlDU_Xqd"
      },
      "source": [
        "index\n",
        "Q_A / Q_E (a~t) 비식별화를 위해 일부 질문은 Secret 처리\n",
        "Qa : Secret\n",
        "Qb : The biggest difference between most criminals and other people is that the criminals are stupid enough to get caught.\n",
        "Qc : Anyone who completely trusts anyone else is asking for trouble.\n",
        "Qd : Secret\n",
        "Qe : P.T. Barnum was wrong when he said that there's a sucker born every minute.\n",
        "Qf : There is no excuse for lying to someone else.\n",
        "Qg : Secret\n",
        "Qh : Most people forget more easily the death of their parents than the loss of their property.\n",
        "Qi : Secret\n",
        "Qj : It is safest to assume that all people have a vicious streak and it will come out when they are given a chance.\n",
        "Qk : All in all, it is better to be humble and honest than to be important and dishonest.\n",
        "Ql : Secret\n",
        "Qm : It is hard to get ahead without cutting corners here and there.\n",
        "Qn : Secret\n",
        "Qo : The best way to handle people is to tell them what they want to hear.\n",
        "Qp : Secret\n",
        "Qq : Most people are basically good and kind.\n",
        "Qr : One should take action only when sure it is morally right.\n",
        "Qs : It is wise to flatter important people.\n",
        "Qt : Secret\n",
        "\n",
        "\n",
        "\t\t\t\t\t1=Disagree, 2=Slightly disagree, 3=Neutral, 4=Slightly agree, 5=Agree.\n",
        "\n",
        "\n",
        "\n",
        "Q_E(a~t) : 질문을 답할 때까지의 시간\n",
        "\n",
        "\n",
        "age_group : 연령\n",
        "\n",
        "\n",
        "education : 교육 수준\n",
        "1=Less than high school, 2=High school, 3=University degree, 4=Graduate degree, 0=무응답\n",
        "\n",
        "\n",
        "engnat : 모국어가 영어\n",
        "1=Yes, 2=No, 0=무응답\n",
        "\n",
        "\n",
        "familysize : 형제자매 수\n",
        "\n",
        "\n",
        "gender : 성별\n",
        "Male, Female\n",
        "\n",
        "\n",
        "hand : 필기하는 손\n",
        "1=Right, 2=Left, 3=Both, 0=무응답\n",
        "\n",
        "\n",
        "married : 혼인 상태\n",
        "1=Never married, 2=Currently married, 3=Previously married, 0=Other\n",
        "\n",
        "\n",
        "race : 인종\n",
        "Asian, Arab, Black, Indigenous Australian, Native American, White, Other\n",
        "\n",
        "\n",
        "religion : 종교\n",
        "Agnostic, Atheist, Buddhist, Christian_Catholic, Christian_Mormon, Christian_Protestant, Christian_Other, Hindu, Jewish, Muslim, Sikh, Other\n",
        "\n",
        "\n",
        "tp__(01~07) : items were rated \"I see myself as:\" _____ such that\n",
        "tp01 : Extraverted, enthusiastic.\n",
        "tp02 : Critical, quarrelsome.\n",
        "tp03 : Dependable, self-disciplined.\n",
        "tp04 : Anxious, easily upset.\n",
        "tp05 : Open to new experiences, complex.\n",
        "tp06 : Reserved, quiet.\n",
        "tp07 : Sympathetic, warm.\n",
        "tp08 : Disorganized, careless.\n",
        "tp09 : Calm, emotionally stable.\n",
        "tp10 : Conventional, uncreative.\n",
        "\t\t\t\t\t\t\t\t\n",
        "\n",
        "\t\t\t\t\t\t\t\t순서형 변수\n",
        "\n",
        "\t\t\t\t\t\t\t\n",
        "\n",
        "\n",
        "\n",
        "urban : 유년기의 거주 구역\n",
        "1=Rural (country side), 2=Suburban, 3=Urban (town, city), 0=무응답\n",
        "\n",
        "\n",
        "\n",
        "\n",
        "wr_(01~13) : 실존하는 해당 단어의 정의을 앎\n",
        "1=Yes, 0=No\n",
        "wf_(01~03) : 허구인 단어의 정의를 앎\n",
        "1=Yes, 0=No\n",
        "\n",
        "\n",
        "voted (타겟): 지난 해 국가 선거 투표 여부\n",
        "1=Yes, 2=No\n"
      ]
    },
    {
      "cell_type": "code",
      "metadata": {
        "id": "PA2DHLMZ9qhY"
      },
      "source": [
        "import pandas as pd\n",
        "import numpy as np\n",
        "import seaborn as sns\n",
        "import matplotlib.pyplot as plt\n",
        "\n",
        "from string import ascii_lowercase\n",
        "from itertools import combinations\n",
        "\n",
        "import lightgbm as lgb\n",
        "from sklearn.ensemble import RandomForestClassifier\n",
        "from lightgbm import LGBMClassifier\n",
        "from sklearn.ensemble import  GradientBoostingClassifier\n",
        "\n",
        "from sklearn.ensemble import VotingClassifier\n",
        "from sklearn.model_selection import KFold\n",
        "from sklearn.model_selection import cross_val_score"
      ],
      "execution_count": null,
      "outputs": []
    },
    {
      "cell_type": "code",
      "metadata": {
        "colab": {
          "base_uri": "https://localhost:8080/"
        },
        "id": "kTtqqOdf-iwv",
        "outputId": "d12277d5-9125-439a-e3f2-56bb376259be"
      },
      "source": [
        "from google.colab import drive\n",
        "drive.mount('/content/drive')"
      ],
      "execution_count": null,
      "outputs": [
        {
          "output_type": "stream",
          "name": "stdout",
          "text": [
            "Drive already mounted at /content/drive; to attempt to forcibly remount, call drive.mount(\"/content/drive\", force_remount=True).\n"
          ]
        }
      ]
    },
    {
      "cell_type": "code",
      "metadata": {
        "id": "UZ6m8JWm-p4G"
      },
      "source": [
        "train = '/content/drive/MyDrive/dataset/train.csv'\n",
        "test = '/content/drive/MyDrive/dataset/test_x.csv'\n",
        "submission = '/content/drive/MyDrive/dataset/sample_submission.csv'"
      ],
      "execution_count": null,
      "outputs": []
    },
    {
      "cell_type": "code",
      "metadata": {
        "id": "BjTYFrxv_GM6"
      },
      "source": [
        "train = pd.read_csv(train)\n",
        "test = pd.read_csv(test)"
      ],
      "execution_count": null,
      "outputs": []
    },
    {
      "cell_type": "code",
      "metadata": {
        "id": "lC0il94h_t4Z"
      },
      "source": [
        "train"
      ],
      "execution_count": null,
      "outputs": []
    },
    {
      "cell_type": "code",
      "metadata": {
        "id": "AIBa3LlABYdM"
      },
      "source": [
        "train.isnull().sum()"
      ],
      "execution_count": null,
      "outputs": []
    },
    {
      "cell_type": "markdown",
      "metadata": {
        "id": "QiPjAvW5BJs3"
      },
      "source": [
        "각 질문에 대한 답변과, 그 답변의 시간으로 새로운 데이터 셋을 만들고 이들을 비슷한 집단끼리 군집화하여 비교를 해보자."
      ]
    },
    {
      "cell_type": "markdown",
      "metadata": {
        "id": "6yoQH2BcM7vQ"
      },
      "source": [
        "### 파생변수 생성"
      ]
    },
    {
      "cell_type": "code",
      "metadata": {
        "id": "oUHgbfrUBIja"
      },
      "source": [
        "eda_train = train.copy()"
      ],
      "execution_count": null,
      "outputs": []
    },
    {
      "cell_type": "code",
      "metadata": {
        "id": "2dTSOSgt_8xE"
      },
      "source": [
        "Answers = ['QaA', 'QbA', 'QcA', 'QdA', 'QeA',\n",
        "             'QfA', 'QgA', 'QhA', 'QiA', 'QjA', \n",
        "             'QkA', 'QlA', 'QmA', 'QnA', 'QoA', \n",
        "             'QpA', 'QqA', 'QrA', 'QsA', 'QtA']"
      ],
      "execution_count": null,
      "outputs": []
    },
    {
      "cell_type": "code",
      "metadata": {
        "id": "g8RCpJyoDUOG"
      },
      "source": [
        "correlations = eda_train[Answers].corr(method = 'spearman')\n",
        "sns.heatmap(correlations, cmap=\"coolwarm\", square=True, center=0)"
      ],
      "execution_count": null,
      "outputs": []
    },
    {
      "cell_type": "markdown",
      "metadata": {
        "id": "xO4CxD3nINLE"
      },
      "source": [
        "위의 질문들이 마키아벨라즘 테스트 임을 알 수 있음 -> 마키아벨리즘 테스트 파생변수 생성"
      ]
    },
    {
      "cell_type": "markdown",
      "metadata": {
        "id": "aC5NpEIqIYO-"
      },
      "source": [
        "https://m.blog.naver.com/PostView.naver?isHttpsRedirect=true&blogId=wlgid0727&logNo=220723273746"
      ]
    },
    {
      "cell_type": "markdown",
      "metadata": {
        "id": "m-7AxCuuIeQa"
      },
      "source": [
        "마키아벨리니즘 성향이 높은 사람들이 있다면 + 부호인 문항들에서는 높은 답변값을 내놓고, -부호인 문항들에서는 낮은 답변값을 내놓았을 것으로 판단. => pearson 상관계수가 아닌 spearman 상관계수를 쓰는 근거가 되기도 함.\n",
        "speraman 상관계수는 pearson과는 다르게 linear 가정이 아니라 monotonic 가정을 함"
      ]
    },
    {
      "cell_type": "markdown",
      "metadata": {
        "id": "Cg_zQDzPKI4U"
      },
      "source": [
        "Pearson 상관은 두 계량형 변수 사이의 선형 관계를 평가합니다. Spearman 상관 계수는 원시 데이터가 아니라 각 변수에 대해 순위를 매긴 값을 기반으로 합니다. Spearman 상관은 종종 순서형 변수가 포함된 관계를 평가하기 위해 사용됩니다."
      ]
    },
    {
      "cell_type": "markdown",
      "metadata": {
        "id": "DOxv6jtfKPTi"
      },
      "source": [
        "- 질문데이터는 순서형 데이터"
      ]
    },
    {
      "cell_type": "markdown",
      "metadata": {
        "id": "0j5-Ktw2JTNW"
      },
      "source": [
        "=> 질문에 대한 답변의 직관적인 해석을 위해 -부호의 답변값을 reverse 처리"
      ]
    },
    {
      "cell_type": "code",
      "metadata": {
        "id": "AynngHMYJK6q"
      },
      "source": [
        "for col in eda_train[Answers]:\n",
        "    print(sorted(eda_train[col].unique()))"
      ],
      "execution_count": null,
      "outputs": []
    },
    {
      "cell_type": "markdown",
      "metadata": {
        "id": "BcJQf9KaKjmj"
      },
      "source": [
        "모든 문항의 답변이 1, 2, 3, 4, 5로 되어있기 때문에 답변값을 reverse시키기 위해서는 단순히 6에서 답변값을 빼주면 됩니다."
      ]
    },
    {
      "cell_type": "code",
      "metadata": {
        "id": "9BXc1xDUKb6n"
      },
      "source": [
        "flipping_columns = [\"QeA\", \"QfA\", \"QkA\", \"QqA\", \"QrA\"]\n",
        "for flip in flipping_columns: \n",
        "    eda_train[flip] = 6 - eda_train[flip]"
      ],
      "execution_count": null,
      "outputs": []
    },
    {
      "cell_type": "code",
      "metadata": {
        "id": "gpCQ0W3kKnz3"
      },
      "source": [
        "correlations = eda_train[Answers].corr(method = 'spearman')\n",
        "sns.heatmap(correlations, cmap=\"coolwarm\", square=True, center=0)"
      ],
      "execution_count": null,
      "outputs": []
    },
    {
      "cell_type": "code",
      "metadata": {
        "id": "Sl4JlyDfKrQz"
      },
      "source": [
        "correlations = eda_train[Answers].corr(method = 'spearman')\n",
        "sns.heatmap(correlations, cmap=\"coolwarm\", square=True, center=0)"
      ],
      "execution_count": null,
      "outputs": []
    },
    {
      "cell_type": "markdown",
      "metadata": {
        "id": "mszdfxgzMANC"
      },
      "source": [
        "위의 음의 상관관계를 보이는 문항에서 -> 음의 부호의 문항임을 확인 -> reverse처리"
      ]
    },
    {
      "cell_type": "code",
      "metadata": {
        "id": "rsNXy70wMInk"
      },
      "source": [
        "flipping_secret_columns = [\"QaA\", \"QdA\", \"QgA\", \"QiA\", \"QnA\"]\n",
        "for flip in flipping_secret_columns: \n",
        "    eda_train[flip] = 6 - eda_train[flip]"
      ],
      "execution_count": null,
      "outputs": []
    },
    {
      "cell_type": "code",
      "metadata": {
        "id": "Sc_DOAY4MJ_W"
      },
      "source": [
        "correlations = eda_train[Answers].corr(method='spearman')\n",
        "sns.heatmap(correlations, cmap=\"coolwarm\", square=True, center=0)"
      ],
      "execution_count": null,
      "outputs": []
    },
    {
      "cell_type": "markdown",
      "metadata": {
        "id": "58lC02ICMZoR"
      },
      "source": [
        "전체 문항들을 +문항들의 직관적인 해석이 가능하게끔 변환함."
      ]
    },
    {
      "cell_type": "markdown",
      "metadata": {
        "id": "OWy-b6xwMyC3"
      },
      "source": [
        "이러한 마키아벨리니즘 테스트를 기반으로 이를 지표로 나타낸 스코어를 파생변수를 생성함"
      ]
    },
    {
      "cell_type": "code",
      "metadata": {
        "id": "0W1LE8w2MYle"
      },
      "source": [
        "eda_train['Mach_score'] = eda_train[Answers].mean(axis=1)\n",
        "eda_train.head()"
      ],
      "execution_count": null,
      "outputs": []
    },
    {
      "cell_type": "code",
      "metadata": {
        "id": "xLJivrlJNTEK"
      },
      "source": [
        "eda_train[['Mach_score']].describe()"
      ],
      "execution_count": null,
      "outputs": []
    },
    {
      "cell_type": "code",
      "metadata": {
        "id": "q3ux1Ov1NbNq"
      },
      "source": [
        "sns.displot(eda_train, x=\"Mach_score\", bins=100)"
      ],
      "execution_count": null,
      "outputs": []
    },
    {
      "cell_type": "code",
      "metadata": {
        "id": "fzrHBN0e2a_U"
      },
      "source": [
        "eda_train[\"Mach_score\"].describe()"
      ],
      "execution_count": null,
      "outputs": []
    },
    {
      "cell_type": "code",
      "metadata": {
        "id": "WZST6EVX2xUl"
      },
      "source": [
        "eda_train['mach_size'] = eda_train['Mach_score'].apply(lambda x: 1 if x<=2.75 else (2 if x<=3.35 else (3 if x<=3.95 else 4)))"
      ],
      "execution_count": null,
      "outputs": []
    },
    {
      "cell_type": "code",
      "metadata": {
        "id": "3n0lA7Vk9l7o"
      },
      "source": [
        "eda_train"
      ],
      "execution_count": null,
      "outputs": []
    },
    {
      "cell_type": "code",
      "metadata": {
        "id": "szup89piNeX5"
      },
      "source": [
        "questions = [i for i in list(ascii_lowercase)[:20]]\n",
        "eda_train['delay'] = eda_train[[('Q'+i+'E') for i in questions]].sum(axis=1)"
      ],
      "execution_count": null,
      "outputs": []
    },
    {
      "cell_type": "code",
      "metadata": {
        "id": "sqGvAhkuPTLR"
      },
      "source": [
        "eda_train['delay']"
      ],
      "execution_count": null,
      "outputs": []
    },
    {
      "cell_type": "code",
      "metadata": {
        "id": "BdYQKZ9sPXf4"
      },
      "source": [
        "tlist =pd.DataFrame([eda_train['Mach_score'], eda_train['delay']])"
      ],
      "execution_count": null,
      "outputs": []
    },
    {
      "cell_type": "code",
      "metadata": {
        "id": "LK9fMJEGTF8I"
      },
      "source": [
        "#sns.heatmap(tlist.corr(), cmap='RdBu_r')"
      ],
      "execution_count": null,
      "outputs": []
    },
    {
      "cell_type": "code",
      "metadata": {
        "id": "5vjVV2q8UMJZ"
      },
      "source": [
        "tlist=tlist.transpose()"
      ],
      "execution_count": null,
      "outputs": []
    },
    {
      "cell_type": "code",
      "metadata": {
        "id": "QbAg-ozEUU5B"
      },
      "source": [
        "sns.heatmap(tlist.corr(), cmap='RdBu_r')"
      ],
      "execution_count": null,
      "outputs": []
    },
    {
      "cell_type": "markdown",
      "metadata": {
        "id": "To_b9wViU7Nh"
      },
      "source": [
        "상관성 없음"
      ]
    },
    {
      "cell_type": "markdown",
      "metadata": {
        "id": "6sa_do-oYUNo"
      },
      "source": [
        "질문 변수들에 대하여 mean-encoding 진행"
      ]
    },
    {
      "cell_type": "code",
      "metadata": {
        "id": "5dVTQBWrU3oD"
      },
      "source": [
        "QA_columns = list(eda_train.loc[:, eda_train.columns[1:41:2]].columns)\n",
        "train_QA = eda_train.loc[:,QA_columns]\n",
        "display(train_QA.head())\n",
        "\n",
        "display(train_QA.describe())"
      ],
      "execution_count": null,
      "outputs": []
    },
    {
      "cell_type": "code",
      "metadata": {
        "id": "DfNnV6JxYFk_"
      },
      "source": [
        "fig,ax = plt.subplots(5,4, figsize=(10,15))\n",
        "\n",
        "for i in range(20):\n",
        "    x_num = i//4\n",
        "    y_num = i%4\n",
        "\n",
        "    plot_dict = train_QA.iloc[:,i].value_counts().to_dict()\n",
        "    x_values = sorted(plot_dict.keys())\n",
        "    y_values = [plot_dict[x] for x in x_values]\n",
        "    \n",
        "    ax[x_num, y_num].bar(x_values, y_values)\n",
        "    ax[x_num, y_num].set_title(train_QA.columns[i])\n",
        "    ax[x_num, y_num].set_ylim(0,40000)\n",
        "plt.tight_layout()\n",
        "plt.show()"
      ],
      "execution_count": null,
      "outputs": []
    },
    {
      "cell_type": "code",
      "metadata": {
        "id": "sHpRyTg-YKfg"
      },
      "source": [
        ""
      ],
      "execution_count": null,
      "outputs": []
    }
  ]
}